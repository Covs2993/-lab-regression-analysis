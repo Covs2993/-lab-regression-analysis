{
 "cells": [
  {
   "cell_type": "markdown",
   "metadata": {},
   "source": [
    "# Lab: Regression Analysis"
   ]
  },
  {
   "cell_type": "markdown",
   "metadata": {},
   "source": [
    "### Before you start:\n",
    "\n",
    "* Read the README.md file\n",
    "* Comment as much as you can and use the resources (README.md file) \n",
    "\n",
    "Happy learning!"
   ]
  },
  {
   "cell_type": "code",
   "execution_count": 48,
   "metadata": {},
   "outputs": [],
   "source": [
    "import pandas as pd\n",
    "import numpy as np\n",
    "import matplotlib.pyplot as plt\n",
    "import statsmodels.api as sm\n",
    "\n",
    "from scipy.stats import linregress"
   ]
  },
  {
   "cell_type": "markdown",
   "metadata": {},
   "source": [
    "## Challenge 1\n",
    "I work at a coding bootcamp, and I have developed a theory that the younger my students are, the more often they are late to class. In order to test my hypothesis, I have collected some data in the following table:\n",
    "\n",
    "| StudentID | Age | Tardies |\n",
    "|--------|-----|------------|\n",
    "| 1      | 17  | 10         |\n",
    "| 2      | 51  | 1          |\n",
    "| 3      | 27  | 5          |\n",
    "| 4      | 21  | 9         |\n",
    "| 5      | 36  |  4         |\n",
    "| 6      | 48  |  2         |\n",
    "| 7      | 19  |  9         |\n",
    "| 8      | 26  | 6          |\n",
    "| 9      | 54  |  0         |\n",
    "| 10     | 30  |  3         |"
   ]
  },
  {
   "cell_type": "markdown",
   "metadata": {},
   "source": [
    "Use this command to create a dataframe with the data provided in the table. \n",
    "~~~~\n",
    "student_data = pd.DataFrame({'X': [x_values], 'Y': [y_values]})\n",
    "~~~~"
   ]
  },
  {
   "cell_type": "code",
   "execution_count": 7,
   "metadata": {},
   "outputs": [],
   "source": [
    "# Your code here. \n",
    "student_data = pd.DataFrame({'Age':[17,51,27,21,36,48,19,26,54,30], 'Tardies':[10,1,5,9,4,2,9,6,0,3] })"
   ]
  },
  {
   "cell_type": "markdown",
   "metadata": {},
   "source": [
    "Draw a dispersion diagram (scatter plot) for the data."
   ]
  },
  {
   "cell_type": "code",
   "execution_count": 10,
   "metadata": {},
   "outputs": [
    {
     "data": {
      "text/plain": [
       "<AxesSubplot:xlabel='Age', ylabel='Tardies'>"
      ]
     },
     "execution_count": 10,
     "metadata": {},
     "output_type": "execute_result"
    },
    {
     "data": {
      "image/png": "[encoded data removed]",
      "text/plain": [
       "<Figure size 432x288 with 1 Axes>"
      ]
     },
     "metadata": {
      "needs_background": "light"
     },
     "output_type": "display_data"
    }
   ],
   "source": [
    "# Your code here.\n",
    "# Creamos un .plot y ponemos las dos variables que queremos, adicional en kind poner el tipo de gráfico\n",
    "student_data.plot('Age', 'Tardies', kind = 'scatter')"
   ]
  },
  {
   "cell_type": "markdown",
   "metadata": {},
   "source": [
    "Do you see a trend? Can you make any hypotheses about the relationship between age and number of tardies?"
   ]
  },
  {
   "cell_type": "code",
   "execution_count": 12,
   "metadata": {},
   "outputs": [],
   "source": [
    "# Your response here. \n",
    "#Entre más joven sea es mayor la probabilidad de llegar tarde a las clases"
   ]
  },
  {
   "cell_type": "markdown",
   "metadata": {},
   "source": [
    "Calculate the covariance and correlation of the variables in your plot. What is the difference between these two measures? Compare their values. What do they tell you in this case? Add your responses as comments after your code."
   ]
  },
  {
   "cell_type": "code",
   "execution_count": 16,
   "metadata": {},
   "outputs": [
    {
     "name": "stdout",
     "output_type": "stream",
     "text": [
      "[[187.65555556 -45.56666667]\n",
      " [-45.56666667  12.54444444]]\n",
      "              Age   Tardies\n",
      "Age      1.000000 -0.939163\n",
      "Tardies -0.939163  1.000000\n"
     ]
    }
   ],
   "source": [
    "# Your response here.\n",
    "\"\"\"\n",
    "COVARIANZA\n",
    "Nos da una medida de que tan fuerte es la correlación entre dos o más variables\n",
    "La función es numpy.cov(m, y, rowvar, bias, ddof, dfweights, aweights)\n",
    "\n",
    " La m es el arreglo y puede ser de 1 dimensión o 2D, las variables son columnas\n",
    " y = None tiene que tener la misma forma que la m\n",
    " rowvar = True es opcional y por default es true. Si se pone True entonces cada renglon representa una variable \n",
    "          con observaciones en cada columna. De lo contrario la relación se transpone\n",
    " bias = False es por default que es falso. Si bias es True entonces normaliza los puntos de la data\n",
    " ddof = None es por defualt que es None. Si no es None se elimina el valor predeterminado de bias en cuenta \n",
    "        que ddof = 1 devolverá la estimación sin sesgo incluso si se especifiga fweights y aweights\n",
    " fwights  = None y es un arreglo de 1D de ponderaciones de frecuencia enteras\n",
    " aweights = None es una matriz 1-D de pesos de vectores de observación.\n",
    " \n",
    " Cuando se pone el .T es para hacer una transpuesta\n",
    " \n",
    " EL valor que regresa es una matriz de covarianza\n",
    " \n",
    " \n",
    "\n",
    "La formula de correlacion de manera manual es la covarianza / la multiplicación de la desviación estadnar de ambas variables\n",
    "\n",
    "\"\"\"\n",
    "covariance = np.cov(student_data.T)\n",
    "correlation = student_data.corr()\n",
    "\n",
    "print(covariance)\n",
    "print(correlation)"
   ]
  },
  {
   "cell_type": "code",
   "execution_count": 17,
   "metadata": {
    "collapsed": true
   },
   "outputs": [
    {
     "data": {
      "text/plain": [
       "'\\nLa covarianza mide la relación lineal entre dos variables. Aunque la covarianza es similar a la correlación entre dos variables,\\ndifieren de las siguientes maneras:\\nLos coeficientes de correlación están estandarizados. Por lo tanto, una relación lineal perfecta da como resultado un \\ncoeficiente de 1. La correlación mide tanto la fuerza como la dirección de la relación lineal entre dos variables.\\nLos valores de covarianza no están estandarizados. Por consiguiente, la covarianza puede ir desde infinito negativo \\nhasta infinito positivo. Por lo tanto, el valor de una relación lineal perfecta depende de los datos. \\nPuesto que los datos no están estandarizados, es difícil determinar la fuerza de la relación entre las variables.\\n'"
      ]
     },
     "execution_count": 17,
     "metadata": {},
     "output_type": "execute_result"
    }
   ],
   "source": [
    "\"\"\"\n",
    "La covarianza mide la relación lineal entre dos variables. Aunque la covarianza es similar a la correlación entre dos variables,\n",
    "difieren de las siguientes maneras:\n",
    "\n",
    "Los coeficientes de correlación están estandarizados. Por lo tanto, una relación lineal perfecta da como resultado un \n",
    "coeficiente de 1. La correlación mide tanto la fuerza como la dirección de la relación lineal entre dos variables.\n",
    "\n",
    "Los valores de covarianza no están estandarizados. Por consiguiente, la covarianza puede ir desde infinito negativo \n",
    "hasta infinito positivo. Por lo tanto, el valor de una relación lineal perfecta depende de los datos. \n",
    "Puesto que los datos no están estandarizados, es difícil determinar la fuerza de la relación entre las variables.\n",
    "\"\"\""
   ]
  },
  {
   "cell_type": "markdown",
   "metadata": {},
   "source": [
    "Build a regression model for this data. What will be your outcome variable? What type of regression are you using? Add your responses as comments after your code."
   ]
  },
  {
   "cell_type": "code",
   "execution_count": 29,
   "metadata": {},
   "outputs": [
    {
     "name": "stdout",
     "output_type": "stream",
     "text": [
      "La pendiente es: -0.2428207709159808\n",
      "El valor donde intercepta el eje Y es: 12.888803363135768\n",
      "EL valor de r -0.9391626886887121 que después se eleva al cuadrado para la r2: 0.8820265558250108\n",
      "El valor de p_value es: 5.56665383455343e-05\n",
      "Error standar: 0.03139728816158607\n"
     ]
    }
   ],
   "source": [
    "# Your response here.\n",
    "slope, intercept, r_value, p_value, std_err = linregress(student_data.Age, student_data.Tardies)\n",
    "print('La pendiente es:', slope)\n",
    "print('El valor donde intercepta el eje Y es:',intercept)\n",
    "print('EL valor de r', r_value, 'que después se eleva al cuadrado para la r2:', (r_value**2))\n",
    "print('El valor de p_value es:', p_value)\n",
    "print('Error standar:', std_err)\n"
   ]
  },
  {
   "cell_type": "code",
   "execution_count": 30,
   "metadata": {},
   "outputs": [
    {
     "data": {
      "text/plain": [
       "0.9999443334616545"
      ]
     },
     "execution_count": 30,
     "metadata": {},
     "output_type": "execute_result"
    }
   ],
   "source": [
    "\"\"\"\n",
    "La r2 nos dice que está capturando el 88% de los datos y sus variaciones\n",
    "\n",
    "\"\"\""
   ]
  },
  {
   "cell_type": "code",
   "execution_count": 35,
   "metadata": {},
   "outputs": [
    {
     "data": {
      "text/plain": [
       "0    8.760850\n",
       "1    0.504944\n",
       "2    6.332643\n",
       "3    7.789567\n",
       "4    4.147256\n",
       "5    1.233406\n",
       "6    8.275209\n",
       "7    6.575463\n",
       "8   -0.223518\n",
       "9    5.604180\n",
       "Name: Age, dtype: float64"
      ]
     },
     "execution_count": 35,
     "metadata": {},
     "output_type": "execute_result"
    }
   ],
   "source": [
    "# Para calcular sacamos la formula de regresion lineal\n",
    "\"\"\"\n",
    "variable_dep = intercept + slope(variable_ind)\n",
    "\"\"\"\n",
    "tardies_calculado = intercept + slope*student_data.Age\n",
    "tardies_calculado\n"
   ]
  },
  {
   "cell_type": "markdown",
   "metadata": {},
   "source": [
    "Plot your regression model on your scatter plot."
   ]
  },
  {
   "cell_type": "code",
   "execution_count": 40,
   "metadata": {},
   "outputs": [
    {
     "data": {
      "image/png": "[encoded data removed]",
      "text/plain": [
       "<Figure size 432x288 with 1 Axes>"
      ]
     },
     "metadata": {
      "needs_background": "light"
     },
     "output_type": "display_data"
    }
   ],
   "source": [
    "# Your code here.\n",
    "#Primero ponemos en scatter la de Ages vs Tardies y después la que acabmos de calcular su Tardie\n",
    "student_data.plot('Age', 'Tardies', kind = 'scatter')\n",
    "plt.plot(student_data.Age, tardies_calculado);"
   ]
  },
  {
   "cell_type": "markdown",
   "metadata": {},
   "source": [
    "Interpret the results of your model. What can conclusions can you draw from your model and how confident in these conclusions are you? Can we say that age is a good predictor of tardiness? Add your responses as comments after your code."
   ]
  },
  {
   "cell_type": "code",
   "execution_count": 3,
   "metadata": {},
   "outputs": [],
   "source": [
    "# Your response here. \n",
    "\"\"\"\n",
    "El modelo es bueno porque toma el 88% de los valores con variaciones, adicional se puede ver en el gráfico como mantiene \n",
    "la forma de los puntos, ajustandolos\n",
    "\"\"\""
   ]
  },
  {
   "cell_type": "markdown",
   "metadata": {},
   "source": [
    "## Challenge 2\n",
    "For the second part of this lab, we will use the vehicles.csv data set. You can find a copy of the dataset in the git hub folder. This dataset includes variables related to vehicle characteristics, including the model, make, and energy efficiency standards, as well as each car's CO2 emissions. As discussed in class the goal of this exercise is to predict vehicles' CO2 emissions based on several independent variables. "
   ]
  },
  {
   "cell_type": "code",
   "execution_count": 41,
   "metadata": {},
   "outputs": [],
   "source": [
    "# Import any libraries you may need & the data\n",
    "vehicles = pd.read_csv('vehicles.csv')"
   ]
  },
  {
   "cell_type": "code",
   "execution_count": 42,
   "metadata": {},
   "outputs": [
    {
     "data": {
      "text/html": [
       "<div>\n",
       "<style scoped>\n",
       "    .dataframe tbody tr th:only-of-type {\n",
       "        vertical-align: middle;\n",
       "    }\n",
       "\n",
       "    .dataframe tbody tr th {\n",
       "        vertical-align: top;\n",
       "    }\n",
       "\n",
       "    .dataframe thead th {\n",
       "        text-align: right;\n",
       "    }\n",
       "</style>\n",
       "<table border=\"1\" class=\"dataframe\">\n",
       "  <thead>\n",
       "    <tr style=\"text-align: right;\">\n",
       "      <th></th>\n",
       "      <th>Make</th>\n",
       "      <th>Model</th>\n",
       "      <th>Year</th>\n",
       "      <th>Engine Displacement</th>\n",
       "      <th>Cylinders</th>\n",
       "      <th>Transmission</th>\n",
       "      <th>Drivetrain</th>\n",
       "      <th>Vehicle Class</th>\n",
       "      <th>Fuel Type</th>\n",
       "      <th>Fuel Barrels/Year</th>\n",
       "      <th>City MPG</th>\n",
       "      <th>Highway MPG</th>\n",
       "      <th>Combined MPG</th>\n",
       "      <th>CO2 Emission Grams/Mile</th>\n",
       "      <th>Fuel Cost/Year</th>\n",
       "    </tr>\n",
       "  </thead>\n",
       "  <tbody>\n",
       "    <tr>\n",
       "      <th>0</th>\n",
       "      <td>AM General</td>\n",
       "      <td>DJ Po Vehicle 2WD</td>\n",
       "      <td>1984</td>\n",
       "      <td>2.5</td>\n",
       "      <td>4.0</td>\n",
       "      <td>Automatic 3-spd</td>\n",
       "      <td>2-Wheel Drive</td>\n",
       "      <td>Special Purpose Vehicle 2WD</td>\n",
       "      <td>Regular</td>\n",
       "      <td>19.388824</td>\n",
       "      <td>18</td>\n",
       "      <td>17</td>\n",
       "      <td>17</td>\n",
       "      <td>522.764706</td>\n",
       "      <td>1950</td>\n",
       "    </tr>\n",
       "    <tr>\n",
       "      <th>1</th>\n",
       "      <td>AM General</td>\n",
       "      <td>FJ8c Post Office</td>\n",
       "      <td>1984</td>\n",
       "      <td>4.2</td>\n",
       "      <td>6.0</td>\n",
       "      <td>Automatic 3-spd</td>\n",
       "      <td>2-Wheel Drive</td>\n",
       "      <td>Special Purpose Vehicle 2WD</td>\n",
       "      <td>Regular</td>\n",
       "      <td>25.354615</td>\n",
       "      <td>13</td>\n",
       "      <td>13</td>\n",
       "      <td>13</td>\n",
       "      <td>683.615385</td>\n",
       "      <td>2550</td>\n",
       "    </tr>\n",
       "  </tbody>\n",
       "</table>\n",
       "</div>"
      ],
      "text/plain": [
       "         Make              Model  Year  Engine Displacement  Cylinders  \\\n",
       "0  AM General  DJ Po Vehicle 2WD  1984                  2.5        4.0   \n",
       "1  AM General   FJ8c Post Office  1984                  4.2        6.0   \n",
       "\n",
       "      Transmission     Drivetrain                Vehicle Class Fuel Type  \\\n",
       "0  Automatic 3-spd  2-Wheel Drive  Special Purpose Vehicle 2WD   Regular   \n",
       "1  Automatic 3-spd  2-Wheel Drive  Special Purpose Vehicle 2WD   Regular   \n",
       "\n",
       "   Fuel Barrels/Year  City MPG  Highway MPG  Combined MPG  \\\n",
       "0          19.388824        18           17            17   \n",
       "1          25.354615        13           13            13   \n",
       "\n",
       "   CO2 Emission Grams/Mile  Fuel Cost/Year  \n",
       "0               522.764706            1950  \n",
       "1               683.615385            2550  "
      ]
     },
     "execution_count": 42,
     "metadata": {},
     "output_type": "execute_result"
    }
   ],
   "source": [
    "vehicles.head(2)"
   ]
  },
  {
   "cell_type": "markdown",
   "metadata": {},
   "source": [
    "Let's use the following variables for our analysis: Year, Cylinders, Fuel Barrels/Year, Combined MPG, and Fuel Cost/Year. We will use 'CO2 Emission Grams/Mile' as our outcome variable. \n",
    "\n",
    "Calculate the correlations between each of these variables and the outcome. Which variable do you think will be the most important in determining CO2 emissions? Which provides the least amount of helpful information for determining CO2 emissions? Add your responses as comments after your code."
   ]
  },
  {
   "cell_type": "code",
   "execution_count": 47,
   "metadata": {},
   "outputs": [
    {
     "data": {
      "text/html": [
       "<div>\n",
       "<style scoped>\n",
       "    .dataframe tbody tr th:only-of-type {\n",
       "        vertical-align: middle;\n",
       "    }\n",
       "\n",
       "    .dataframe tbody tr th {\n",
       "        vertical-align: top;\n",
       "    }\n",
       "\n",
       "    .dataframe thead th {\n",
       "        text-align: right;\n",
       "    }\n",
       "</style>\n",
       "<table border=\"1\" class=\"dataframe\">\n",
       "  <thead>\n",
       "    <tr style=\"text-align: right;\">\n",
       "      <th></th>\n",
       "      <th>Year</th>\n",
       "      <th>Cylinders</th>\n",
       "      <th>Fuel Barrels/Year</th>\n",
       "      <th>Combined MPG</th>\n",
       "      <th>Fuel Cost/Year</th>\n",
       "      <th>CO2 Emission Grams/Mile</th>\n",
       "    </tr>\n",
       "  </thead>\n",
       "  <tbody>\n",
       "    <tr>\n",
       "      <th>0</th>\n",
       "      <td>1984</td>\n",
       "      <td>4.0</td>\n",
       "      <td>19.388824</td>\n",
       "      <td>17</td>\n",
       "      <td>1950</td>\n",
       "      <td>522.764706</td>\n",
       "    </tr>\n",
       "    <tr>\n",
       "      <th>1</th>\n",
       "      <td>1984</td>\n",
       "      <td>6.0</td>\n",
       "      <td>25.354615</td>\n",
       "      <td>13</td>\n",
       "      <td>2550</td>\n",
       "      <td>683.615385</td>\n",
       "    </tr>\n",
       "  </tbody>\n",
       "</table>\n",
       "</div>"
      ],
      "text/plain": [
       "   Year  Cylinders  Fuel Barrels/Year  Combined MPG  Fuel Cost/Year  \\\n",
       "0  1984        4.0          19.388824            17            1950   \n",
       "1  1984        6.0          25.354615            13            2550   \n",
       "\n",
       "   CO2 Emission Grams/Mile  \n",
       "0               522.764706  \n",
       "1               683.615385  "
      ]
     },
     "execution_count": 47,
     "metadata": {},
     "output_type": "execute_result"
    }
   ],
   "source": [
    "# Your response here. \n",
    "variables = ['Year', 'Cylinders', 'Fuel Barrels/Year', 'Combined MPG', 'Fuel Cost/Year','CO2 Emission Grams/Mile']\n",
    "vehicles2 = vehicles.copy()\n",
    "vehicles2 = vehicles2[variables]\n",
    "vehicles2.head(2)"
   ]
  },
  {
   "cell_type": "code",
   "execution_count": 50,
   "metadata": {},
   "outputs": [
    {
     "data": {
      "text/html": [
       "<div>\n",
       "<style scoped>\n",
       "    .dataframe tbody tr th:only-of-type {\n",
       "        vertical-align: middle;\n",
       "    }\n",
       "\n",
       "    .dataframe tbody tr th {\n",
       "        vertical-align: top;\n",
       "    }\n",
       "\n",
       "    .dataframe thead th {\n",
       "        text-align: right;\n",
       "    }\n",
       "</style>\n",
       "<table border=\"1\" class=\"dataframe\">\n",
       "  <thead>\n",
       "    <tr style=\"text-align: right;\">\n",
       "      <th></th>\n",
       "      <th>Year</th>\n",
       "      <th>Cylinders</th>\n",
       "      <th>Fuel Barrels/Year</th>\n",
       "      <th>Combined MPG</th>\n",
       "      <th>Fuel Cost/Year</th>\n",
       "      <th>CO2 Emission Grams/Mile</th>\n",
       "    </tr>\n",
       "  </thead>\n",
       "  <tbody>\n",
       "    <tr>\n",
       "      <th>Year</th>\n",
       "      <td>1.000000</td>\n",
       "      <td>0.082469</td>\n",
       "      <td>-0.221084</td>\n",
       "      <td>0.204751</td>\n",
       "      <td>-0.091913</td>\n",
       "      <td>-0.222300</td>\n",
       "    </tr>\n",
       "    <tr>\n",
       "      <th>Cylinders</th>\n",
       "      <td>0.082469</td>\n",
       "      <td>1.000000</td>\n",
       "      <td>0.739517</td>\n",
       "      <td>-0.698648</td>\n",
       "      <td>0.778153</td>\n",
       "      <td>0.752393</td>\n",
       "    </tr>\n",
       "    <tr>\n",
       "      <th>Fuel Barrels/Year</th>\n",
       "      <td>-0.221084</td>\n",
       "      <td>0.739517</td>\n",
       "      <td>1.000000</td>\n",
       "      <td>-0.909743</td>\n",
       "      <td>0.916208</td>\n",
       "      <td>0.986189</td>\n",
       "    </tr>\n",
       "    <tr>\n",
       "      <th>Combined MPG</th>\n",
       "      <td>0.204751</td>\n",
       "      <td>-0.698648</td>\n",
       "      <td>-0.909743</td>\n",
       "      <td>1.000000</td>\n",
       "      <td>-0.875185</td>\n",
       "      <td>-0.926229</td>\n",
       "    </tr>\n",
       "    <tr>\n",
       "      <th>Fuel Cost/Year</th>\n",
       "      <td>-0.091913</td>\n",
       "      <td>0.778153</td>\n",
       "      <td>0.916208</td>\n",
       "      <td>-0.875185</td>\n",
       "      <td>1.000000</td>\n",
       "      <td>0.930865</td>\n",
       "    </tr>\n",
       "    <tr>\n",
       "      <th>CO2 Emission Grams/Mile</th>\n",
       "      <td>-0.222300</td>\n",
       "      <td>0.752393</td>\n",
       "      <td>0.986189</td>\n",
       "      <td>-0.926229</td>\n",
       "      <td>0.930865</td>\n",
       "      <td>1.000000</td>\n",
       "    </tr>\n",
       "  </tbody>\n",
       "</table>\n",
       "</div>"
      ],
      "text/plain": [
       "                             Year  Cylinders  Fuel Barrels/Year  Combined MPG  \\\n",
       "Year                     1.000000   0.082469          -0.221084      0.204751   \n",
       "Cylinders                0.082469   1.000000           0.739517     -0.698648   \n",
       "Fuel Barrels/Year       -0.221084   0.739517           1.000000     -0.909743   \n",
       "Combined MPG             0.204751  -0.698648          -0.909743      1.000000   \n",
       "Fuel Cost/Year          -0.091913   0.778153           0.916208     -0.875185   \n",
       "CO2 Emission Grams/Mile -0.222300   0.752393           0.986189     -0.926229   \n",
       "\n",
       "                         Fuel Cost/Year  CO2 Emission Grams/Mile  \n",
       "Year                          -0.091913                -0.222300  \n",
       "Cylinders                      0.778153                 0.752393  \n",
       "Fuel Barrels/Year              0.916208                 0.986189  \n",
       "Combined MPG                  -0.875185                -0.926229  \n",
       "Fuel Cost/Year                 1.000000                 0.930865  \n",
       "CO2 Emission Grams/Mile        0.930865                 1.000000  "
      ]
     },
     "execution_count": 50,
     "metadata": {},
     "output_type": "execute_result"
    }
   ],
   "source": [
    "# Usamos el corr() para sacar la matriz de correlaciones de todas las variables y poder ver cuales son las más relacionadas\n",
    "vehicles2.corr()"
   ]
  },
  {
   "cell_type": "code",
   "execution_count": null,
   "metadata": {},
   "outputs": [],
   "source": [
    "\"\"\"\n",
    "El año vs CO2 emission no nos da una relación, se acerca mucho a 0\n",
    "\"\"\""
   ]
  },
  {
   "cell_type": "markdown",
   "metadata": {},
   "source": [
    "Build a regression model for this data. What type of regression are you using? Add your responses as comments after your code."
   ]
  },
  {
   "cell_type": "code",
   "execution_count": 56,
   "metadata": {},
   "outputs": [],
   "source": [
    "# Your response here. \n",
    "X = sm.add_constant(vehicles2[['Year', 'Cylinders', 'Fuel Barrels/Year', 'Combined MPG', 'Fuel Cost/Year']])\n",
    "Y = vehicles2['CO2 Emission Grams/Mile']\n",
    "model = sm.OLS(Y,X).fit()\n",
    "prediction = model.predict(X)\n"
   ]
  },
  {
   "cell_type": "markdown",
   "metadata": {},
   "source": [
    "Print your regression summary, and interpret the results. What are the most important varibles in your model and why? What can conclusions can you draw from your model and how confident in these conclusions are you? Add your responses as comments after your code."
   ]
  },
  {
   "cell_type": "code",
   "execution_count": 57,
   "metadata": {},
   "outputs": [
    {
     "name": "stdout",
     "output_type": "stream",
     "text": [
      "                               OLS Regression Results                              \n",
      "===================================================================================\n",
      "Dep. Variable:     CO2 Emission Grams/Mile   R-squared:                       0.981\n",
      "Model:                                 OLS   Adj. R-squared:                  0.981\n",
      "Method:                      Least Squares   F-statistic:                 3.687e+05\n",
      "Date:                     Sun, 11 Jul 2021   Prob (F-statistic):               0.00\n",
      "Time:                             13:19:07   Log-Likelihood:            -1.5173e+05\n",
      "No. Observations:                    35952   AIC:                         3.035e+05\n",
      "Df Residuals:                        35946   BIC:                         3.035e+05\n",
      "Df Model:                                5                                         \n",
      "Covariance Type:                 nonrobust                                         \n",
      "=====================================================================================\n",
      "                        coef    std err          t      P>|t|      [0.025      0.975]\n",
      "-------------------------------------------------------------------------------------\n",
      "const               769.8883     19.392     39.702      0.000     731.880     807.897\n",
      "Year                 -0.3206      0.010    -33.060      0.000      -0.340      -0.302\n",
      "Cylinders             1.8788      0.083     22.598      0.000       1.716       2.042\n",
      "Fuel Barrels/Year    19.0529      0.061    311.600      0.000      18.933      19.173\n",
      "Combined MPG         -3.0404      0.042    -71.645      0.000      -3.124      -2.957\n",
      "Fuel Cost/Year        0.0323      0.000     67.025      0.000       0.031       0.033\n",
      "==============================================================================\n",
      "Omnibus:                    71055.645   Durbin-Watson:                   0.747\n",
      "Prob(Omnibus):                  0.000   Jarque-Bera (JB):        246941260.782\n",
      "Skew:                          15.902   Prob(JB):                         0.00\n",
      "Kurtosis:                     407.766   Cond. No.                     6.20e+05\n",
      "==============================================================================\n",
      "\n",
      "Notes:\n",
      "[1] Standard Errors assume that the covariance matrix of the errors is correctly specified.\n",
      "[2] The condition number is large, 6.2e+05. This might indicate that there are\n",
      "strong multicollinearity or other numerical problems.\n"
     ]
    }
   ],
   "source": [
    "# Your response here. \n",
    "print_model= model.summary()\n",
    "print(print_model)"
   ]
  },
  {
   "cell_type": "code",
   "execution_count": 58,
   "metadata": {},
   "outputs": [
    {
     "data": {
      "text/plain": [
       "'\\nEl modelo es excelnte ya que el 98% de las variaciones son predecidas con este modelo\\n'"
      ]
     },
     "execution_count": 58,
     "metadata": {},
     "output_type": "execute_result"
    }
   ],
   "source": [
    "\"\"\"\n",
    "El modelo es excelnte ya que el 98% de las variaciones son predecidas con este modelo\n",
    "\"\"\""
   ]
  },
  {
   "cell_type": "markdown",
   "metadata": {},
   "source": [
    "## Bonus Challenge: Error Analysis"
   ]
  },
  {
   "cell_type": "markdown",
   "metadata": {},
   "source": [
    "I am suspicious about the last few parties I have thrown: it seems that the more people I invite the more people are unable to attend. To know if my hunch is supported by data, I have decided to do an analysis. I have collected my data in the table below, where X is the number of people I invited, and Y is the number of people who attended. \n",
    "\n",
    "|  X |  Y |\n",
    "|----|----|\n",
    "| 1  |  1 |\n",
    "| 3  |  2 |\n",
    "| 4  |  4 |\n",
    "| 6  |  4 |\n",
    "| 8  |  5 |\n",
    "| 9  |  7 |\n",
    "| 11 |  8 |\n",
    "| 14 |  13 |"
   ]
  },
  {
   "cell_type": "markdown",
   "metadata": {},
   "source": [
    "We want to know if the relationship modeled by the two random variables is linear or not, and therefore if it is appropriate to model it with a linear regression. \n",
    "First, build a dataframe with the data. "
   ]
  },
  {
   "cell_type": "code",
   "execution_count": 59,
   "metadata": {},
   "outputs": [
    {
     "data": {
      "text/html": [
       "<div>\n",
       "<style scoped>\n",
       "    .dataframe tbody tr th:only-of-type {\n",
       "        vertical-align: middle;\n",
       "    }\n",
       "\n",
       "    .dataframe tbody tr th {\n",
       "        vertical-align: top;\n",
       "    }\n",
       "\n",
       "    .dataframe thead th {\n",
       "        text-align: right;\n",
       "    }\n",
       "</style>\n",
       "<table border=\"1\" class=\"dataframe\">\n",
       "  <thead>\n",
       "    <tr style=\"text-align: right;\">\n",
       "      <th></th>\n",
       "      <th>Invited</th>\n",
       "      <th>Attended</th>\n",
       "    </tr>\n",
       "  </thead>\n",
       "  <tbody>\n",
       "    <tr>\n",
       "      <th>0</th>\n",
       "      <td>1</td>\n",
       "      <td>1</td>\n",
       "    </tr>\n",
       "    <tr>\n",
       "      <th>1</th>\n",
       "      <td>3</td>\n",
       "      <td>2</td>\n",
       "    </tr>\n",
       "    <tr>\n",
       "      <th>2</th>\n",
       "      <td>4</td>\n",
       "      <td>4</td>\n",
       "    </tr>\n",
       "    <tr>\n",
       "      <th>3</th>\n",
       "      <td>6</td>\n",
       "      <td>4</td>\n",
       "    </tr>\n",
       "    <tr>\n",
       "      <th>4</th>\n",
       "      <td>8</td>\n",
       "      <td>5</td>\n",
       "    </tr>\n",
       "    <tr>\n",
       "      <th>5</th>\n",
       "      <td>9</td>\n",
       "      <td>7</td>\n",
       "    </tr>\n",
       "    <tr>\n",
       "      <th>6</th>\n",
       "      <td>11</td>\n",
       "      <td>8</td>\n",
       "    </tr>\n",
       "    <tr>\n",
       "      <th>7</th>\n",
       "      <td>14</td>\n",
       "      <td>13</td>\n",
       "    </tr>\n",
       "  </tbody>\n",
       "</table>\n",
       "</div>"
      ],
      "text/plain": [
       "   Invited  Attended\n",
       "0        1         1\n",
       "1        3         2\n",
       "2        4         4\n",
       "3        6         4\n",
       "4        8         5\n",
       "5        9         7\n",
       "6       11         8\n",
       "7       14        13"
      ]
     },
     "execution_count": 59,
     "metadata": {},
     "output_type": "execute_result"
    }
   ],
   "source": [
    "# Your code here. \n",
    "parties_data = pd.DataFrame({'Invited':[1,3,4,6,8,9,11,14], 'Attended': [1,2,4,4,5,7,8,13]})\n",
    "parties_data"
   ]
  },
  {
   "cell_type": "markdown",
   "metadata": {},
   "source": [
    "Draw a dispersion diagram (scatter plot) for the data, and fit a regression line."
   ]
  },
  {
   "cell_type": "code",
   "execution_count": 63,
   "metadata": {},
   "outputs": [
    {
     "data": {
      "image/png": "[encoded data removed]",
      "text/plain": [
       "<Figure size 432x288 with 1 Axes>"
      ]
     },
     "metadata": {
      "needs_background": "light"
     },
     "output_type": "display_data"
    }
   ],
   "source": [
    "# Your code here.\n",
    "parties_data.plot('Invited','Attended', kind = 'scatter')\n",
    "slope, intercept, r_value, p_value, std_err = linregress(parties_data.Invited, parties_data.Attended)\n",
    "attended_calc = intercept + (slope *parties_data.Invited)\n",
    "plt.plot(parties_data.Invited, attended_calc);"
   ]
  },
  {
   "cell_type": "markdown",
   "metadata": {},
   "source": [
    "What do you see? What does this plot tell you about the likely relationship between the variables? Print the results from your regression."
   ]
  },
  {
   "cell_type": "code",
   "execution_count": 64,
   "metadata": {},
   "outputs": [
    {
     "name": "stdout",
     "output_type": "stream",
     "text": [
      "La pendiente es: 0.8484848484848485\n",
      "El valor donde intercepta el eje Y es: -0.43939393939393945\n",
      "EL valor de r 0.9652303546573691 que después se eleva al cuadrado para la r2: 0.9316696375519905\n",
      "El valor de p_value es: 0.00010236374464090685\n",
      "Error standar: 0.09380896778286217\n"
     ]
    }
   ],
   "source": [
    "print('La pendiente es:', slope)\n",
    "print('El valor donde intercepta el eje Y es:',intercept)\n",
    "print('EL valor de r', r_value, 'que después se eleva al cuadrado para la r2:', (r_value**2))\n",
    "print('El valor de p_value es:', p_value)\n",
    "print('Error standar:', std_err)"
   ]
  },
  {
   "cell_type": "code",
   "execution_count": 65,
   "metadata": {},
   "outputs": [
    {
     "data": {
      "text/plain": [
       "'\\nEL valor de la r2 nos dice que toma el 93% de las variaciones y la pendiente nos habla que cuando X sube de la misma manera y\\n'"
      ]
     },
     "execution_count": 65,
     "metadata": {},
     "output_type": "execute_result"
    }
   ],
   "source": [
    "# Your response here. \n",
    "\"\"\"\n",
    "EL valor de la r2 nos dice que toma el 93% de las variaciones y la pendiente nos habla que cuando X sube de la misma manera y\n",
    "\"\"\""
   ]
  },
  {
   "cell_type": "markdown",
   "metadata": {},
   "source": [
    "Do you see any problematic points, or outliers, in your data? Remove these points and recalculate your regression. Print the new dispersion diagram with your new model and the results of your model. "
   ]
  },
  {
   "cell_type": "code",
   "execution_count": 66,
   "metadata": {},
   "outputs": [
    {
     "data": {
      "text/html": [
       "<div>\n",
       "<style scoped>\n",
       "    .dataframe tbody tr th:only-of-type {\n",
       "        vertical-align: middle;\n",
       "    }\n",
       "\n",
       "    .dataframe tbody tr th {\n",
       "        vertical-align: top;\n",
       "    }\n",
       "\n",
       "    .dataframe thead th {\n",
       "        text-align: right;\n",
       "    }\n",
       "</style>\n",
       "<table border=\"1\" class=\"dataframe\">\n",
       "  <thead>\n",
       "    <tr style=\"text-align: right;\">\n",
       "      <th></th>\n",
       "      <th>Invited</th>\n",
       "      <th>Attended</th>\n",
       "    </tr>\n",
       "  </thead>\n",
       "  <tbody>\n",
       "    <tr>\n",
       "      <th>0</th>\n",
       "      <td>1</td>\n",
       "      <td>1</td>\n",
       "    </tr>\n",
       "    <tr>\n",
       "      <th>1</th>\n",
       "      <td>3</td>\n",
       "      <td>2</td>\n",
       "    </tr>\n",
       "    <tr>\n",
       "      <th>2</th>\n",
       "      <td>4</td>\n",
       "      <td>4</td>\n",
       "    </tr>\n",
       "    <tr>\n",
       "      <th>3</th>\n",
       "      <td>6</td>\n",
       "      <td>4</td>\n",
       "    </tr>\n",
       "    <tr>\n",
       "      <th>4</th>\n",
       "      <td>8</td>\n",
       "      <td>5</td>\n",
       "    </tr>\n",
       "    <tr>\n",
       "      <th>5</th>\n",
       "      <td>9</td>\n",
       "      <td>7</td>\n",
       "    </tr>\n",
       "    <tr>\n",
       "      <th>6</th>\n",
       "      <td>11</td>\n",
       "      <td>8</td>\n",
       "    </tr>\n",
       "  </tbody>\n",
       "</table>\n",
       "</div>"
      ],
      "text/plain": [
       "   Invited  Attended\n",
       "0        1         1\n",
       "1        3         2\n",
       "2        4         4\n",
       "3        6         4\n",
       "4        8         5\n",
       "5        9         7\n",
       "6       11         8"
      ]
     },
     "execution_count": 66,
     "metadata": {},
     "output_type": "execute_result"
    }
   ],
   "source": [
    "# Your response here. \n",
    "\"\"\"\n",
    "El error se nota en el último valor, en el 14 ya que queda algo fuera\n",
    "\"\"\"\n",
    "parties_data2 = pd.DataFrame({'Invited':[1,3,4,6,8,9,11], 'Attended': [1,2,4,4,5,7,8]})\n",
    "parties_data2\n"
   ]
  },
  {
   "cell_type": "code",
   "execution_count": 67,
   "metadata": {},
   "outputs": [
    {
     "data": {
      "image/png": "[encoded data removed]",
      "text/plain": [
       "<Figure size 432x288 with 1 Axes>"
      ]
     },
     "metadata": {
      "needs_background": "light"
     },
     "output_type": "display_data"
    }
   ],
   "source": [
    "parties_data2.plot('Invited','Attended', kind = 'scatter')\n",
    "slope2, intercept2, r_value2, p_value2, std_err2 = linregress(parties_data2.Invited, parties_data2.Attended)\n",
    "attended_calc2 = intercept2 + (slope2 *parties_data2.Invited)\n",
    "plt.plot(parties_data2.Invited, attended_calc2);"
   ]
  },
  {
   "cell_type": "code",
   "execution_count": 68,
   "metadata": {},
   "outputs": [
    {
     "name": "stdout",
     "output_type": "stream",
     "text": [
      "La pendiente es: 0.6842105263157895\n",
      "El valor donde intercepta el eje Y es: 0.32330827067669166\n",
      "EL valor de r 0.971278116825086 que después se eleva al cuadrado para la r2: 0.9433811802232854\n",
      "El valor de p_value es: 0.0002644056885656864\n",
      "Error standar: 0.07496206665031292\n"
     ]
    }
   ],
   "source": [
    "print('La pendiente es:', slope2)\n",
    "print('El valor donde intercepta el eje Y es:',intercept2)\n",
    "print('EL valor de r', r_value2, 'que después se eleva al cuadrado para la r2:', (r_value2**2))\n",
    "print('El valor de p_value es:', p_value2)\n",
    "print('Error standar:', std_err2)"
   ]
  },
  {
   "cell_type": "markdown",
   "metadata": {},
   "source": [
    "What changed? Based on the results of the two models and your graphs, what can you say about the form of the data with the problematic point and without it?"
   ]
  },
  {
   "cell_type": "code",
   "execution_count": null,
   "metadata": {},
   "outputs": [],
   "source": [
    "# Your response here. \n",
    "\"\"\"\n",
    "EL error estandar disminuye del 9.3% al 7.4% es decir se ajusta mejor, adicional la r2 pasó del 93.16% al 94.33%\n",
    "\"\"\" "
   ]
  }
 ],
 "metadata": {
  "kernelspec": {
   "display_name": "Python 3",
   "language": "python",
   "name": "python3"
  },
  "language_info": {
   "codemirror_mode": {
    "name": "ipython",
    "version": 3
   },
   "file_extension": ".py",
   "mimetype": "text/x-python",
   "name": "python",
   "nbconvert_exporter": "python",
   "pygments_lexer": "ipython3",
   "version": "3.8.9"
  }
 },
 "nbformat": 4,
 "nbformat_minor": 2
}
